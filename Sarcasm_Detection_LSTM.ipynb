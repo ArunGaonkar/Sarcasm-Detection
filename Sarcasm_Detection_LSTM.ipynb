{
  "nbformat": 4,
  "nbformat_minor": 0,
  "metadata": {
    "colab": {
      "provenance": [],
      "collapsed_sections": [
        "WdaKs8hPuSPG",
        "pcxbqKF1dWfw",
        "INWxkeFxua5b",
        "-sGIAjM_wWt6",
        "FQzg8f5puALa"
      ]
    },
    "kernelspec": {
      "name": "python3",
      "display_name": "Python 3"
    },
    "language_info": {
      "name": "python"
    },
    "accelerator": "GPU",
    "gpuClass": "standard"
  },
  "cells": [
    {
      "cell_type": "markdown",
      "source": [
        "# Importing libraries"
      ],
      "metadata": {
        "id": "WdaKs8hPuSPG"
      }
    },
    {
      "cell_type": "code",
      "execution_count": null,
      "metadata": {
        "id": "cuSuuv1BNeGr"
      },
      "outputs": [],
      "source": [
        "import pandas as pd\n",
        "import numpy as np\n",
        "\n",
        "from sklearn.metrics import f1_score, classification_report, accuracy_score\n",
        "\n",
        "from keras.utils import pad_sequences\n",
        "from keras.preprocessing.text import Tokenizer\n",
        "\n",
        "from keras.models import Sequential\n",
        "from keras.layers import Dense, Embedding, LSTM, Bidirectional, Dropout, GlobalAvgPool1D\n",
        "from tensorflow import keras\n",
        "\n",
        "import matplotlib.pyplot as plt\n"
      ]
    },
    {
      "cell_type": "markdown",
      "metadata": {
        "id": "pcxbqKF1dWfw"
      },
      "source": [
        "# Reading data"
      ]
    },
    {
      "cell_type": "code",
      "execution_count": null,
      "metadata": {
        "colab": {
          "base_uri": "https://localhost:8080/",
          "height": 224
        },
        "id": "S6o-0838YUxp",
        "outputId": "581b672a-632f-4e86-ff39-f67f6b4fa46f"
      },
      "outputs": [
        {
          "output_type": "stream",
          "name": "stdout",
          "text": [
            "16968 7272\n"
          ]
        },
        {
          "output_type": "execute_result",
          "data": {
            "text/plain": [
              "                                            article_text  \\\n",
              "15897  Oh my gosh. That’s just the sweetest thing eve...   \n",
              "8138   “I will fight for equality for transgender peo...   \n",
              "21249  In Pennsylvania, there is Goofy kicking Donald...   \n",
              "16235  The message \"All Muslims Are Scum\" was daubed ...   \n",
              "11381  LONDON—Expressing her annoyance after nude pho...   \n",
              "\n",
              "                                                headline  is_sarcastic  \n",
              "15897  photo of meghan markle's dad could offer a big...             0  \n",
              "8138   vietnamese singer wins international transgend...             0  \n",
              "21249  it's not as easy as you think to spot a gerrym...             0  \n",
              "16235  mystery painter turns vile anti-muslim graffit...             0  \n",
              "11381  queen elizabeth annoyed nude pictures of princ...             1  "
            ],
            "text/html": [
              "\n",
              "  <div id=\"df-8e49b7a8-5c10-49c3-a399-84c94d7df88e\">\n",
              "    <div class=\"colab-df-container\">\n",
              "      <div>\n",
              "<style scoped>\n",
              "    .dataframe tbody tr th:only-of-type {\n",
              "        vertical-align: middle;\n",
              "    }\n",
              "\n",
              "    .dataframe tbody tr th {\n",
              "        vertical-align: top;\n",
              "    }\n",
              "\n",
              "    .dataframe thead th {\n",
              "        text-align: right;\n",
              "    }\n",
              "</style>\n",
              "<table border=\"1\" class=\"dataframe\">\n",
              "  <thead>\n",
              "    <tr style=\"text-align: right;\">\n",
              "      <th></th>\n",
              "      <th>article_text</th>\n",
              "      <th>headline</th>\n",
              "      <th>is_sarcastic</th>\n",
              "    </tr>\n",
              "  </thead>\n",
              "  <tbody>\n",
              "    <tr>\n",
              "      <th>15897</th>\n",
              "      <td>Oh my gosh. That’s just the sweetest thing eve...</td>\n",
              "      <td>photo of meghan markle's dad could offer a big...</td>\n",
              "      <td>0</td>\n",
              "    </tr>\n",
              "    <tr>\n",
              "      <th>8138</th>\n",
              "      <td>“I will fight for equality for transgender peo...</td>\n",
              "      <td>vietnamese singer wins international transgend...</td>\n",
              "      <td>0</td>\n",
              "    </tr>\n",
              "    <tr>\n",
              "      <th>21249</th>\n",
              "      <td>In Pennsylvania, there is Goofy kicking Donald...</td>\n",
              "      <td>it's not as easy as you think to spot a gerrym...</td>\n",
              "      <td>0</td>\n",
              "    </tr>\n",
              "    <tr>\n",
              "      <th>16235</th>\n",
              "      <td>The message \"All Muslims Are Scum\" was daubed ...</td>\n",
              "      <td>mystery painter turns vile anti-muslim graffit...</td>\n",
              "      <td>0</td>\n",
              "    </tr>\n",
              "    <tr>\n",
              "      <th>11381</th>\n",
              "      <td>LONDON—Expressing her annoyance after nude pho...</td>\n",
              "      <td>queen elizabeth annoyed nude pictures of princ...</td>\n",
              "      <td>1</td>\n",
              "    </tr>\n",
              "  </tbody>\n",
              "</table>\n",
              "</div>\n",
              "      <button class=\"colab-df-convert\" onclick=\"convertToInteractive('df-8e49b7a8-5c10-49c3-a399-84c94d7df88e')\"\n",
              "              title=\"Convert this dataframe to an interactive table.\"\n",
              "              style=\"display:none;\">\n",
              "        \n",
              "  <svg xmlns=\"http://www.w3.org/2000/svg\" height=\"24px\"viewBox=\"0 0 24 24\"\n",
              "       width=\"24px\">\n",
              "    <path d=\"M0 0h24v24H0V0z\" fill=\"none\"/>\n",
              "    <path d=\"M18.56 5.44l.94 2.06.94-2.06 2.06-.94-2.06-.94-.94-2.06-.94 2.06-2.06.94zm-11 1L8.5 8.5l.94-2.06 2.06-.94-2.06-.94L8.5 2.5l-.94 2.06-2.06.94zm10 10l.94 2.06.94-2.06 2.06-.94-2.06-.94-.94-2.06-.94 2.06-2.06.94z\"/><path d=\"M17.41 7.96l-1.37-1.37c-.4-.4-.92-.59-1.43-.59-.52 0-1.04.2-1.43.59L10.3 9.45l-7.72 7.72c-.78.78-.78 2.05 0 2.83L4 21.41c.39.39.9.59 1.41.59.51 0 1.02-.2 1.41-.59l7.78-7.78 2.81-2.81c.8-.78.8-2.07 0-2.86zM5.41 20L4 18.59l7.72-7.72 1.47 1.35L5.41 20z\"/>\n",
              "  </svg>\n",
              "      </button>\n",
              "      \n",
              "  <style>\n",
              "    .colab-df-container {\n",
              "      display:flex;\n",
              "      flex-wrap:wrap;\n",
              "      gap: 12px;\n",
              "    }\n",
              "\n",
              "    .colab-df-convert {\n",
              "      background-color: #E8F0FE;\n",
              "      border: none;\n",
              "      border-radius: 50%;\n",
              "      cursor: pointer;\n",
              "      display: none;\n",
              "      fill: #1967D2;\n",
              "      height: 32px;\n",
              "      padding: 0 0 0 0;\n",
              "      width: 32px;\n",
              "    }\n",
              "\n",
              "    .colab-df-convert:hover {\n",
              "      background-color: #E2EBFA;\n",
              "      box-shadow: 0px 1px 2px rgba(60, 64, 67, 0.3), 0px 1px 3px 1px rgba(60, 64, 67, 0.15);\n",
              "      fill: #174EA6;\n",
              "    }\n",
              "\n",
              "    [theme=dark] .colab-df-convert {\n",
              "      background-color: #3B4455;\n",
              "      fill: #D2E3FC;\n",
              "    }\n",
              "\n",
              "    [theme=dark] .colab-df-convert:hover {\n",
              "      background-color: #434B5C;\n",
              "      box-shadow: 0px 1px 3px 1px rgba(0, 0, 0, 0.15);\n",
              "      filter: drop-shadow(0px 1px 2px rgba(0, 0, 0, 0.3));\n",
              "      fill: #FFFFFF;\n",
              "    }\n",
              "  </style>\n",
              "\n",
              "      <script>\n",
              "        const buttonEl =\n",
              "          document.querySelector('#df-8e49b7a8-5c10-49c3-a399-84c94d7df88e button.colab-df-convert');\n",
              "        buttonEl.style.display =\n",
              "          google.colab.kernel.accessAllowed ? 'block' : 'none';\n",
              "\n",
              "        async function convertToInteractive(key) {\n",
              "          const element = document.querySelector('#df-8e49b7a8-5c10-49c3-a399-84c94d7df88e');\n",
              "          const dataTable =\n",
              "            await google.colab.kernel.invokeFunction('convertToInteractive',\n",
              "                                                     [key], {});\n",
              "          if (!dataTable) return;\n",
              "\n",
              "          const docLinkHtml = 'Like what you see? Visit the ' +\n",
              "            '<a target=\"_blank\" href=https://colab.research.google.com/notebooks/data_table.ipynb>data table notebook</a>'\n",
              "            + ' to learn more about interactive tables.';\n",
              "          element.innerHTML = '';\n",
              "          dataTable['output_type'] = 'display_data';\n",
              "          await google.colab.output.renderOutput(dataTable, element);\n",
              "          const docLink = document.createElement('div');\n",
              "          docLink.innerHTML = docLinkHtml;\n",
              "          element.appendChild(docLink);\n",
              "        }\n",
              "      </script>\n",
              "    </div>\n",
              "  </div>\n",
              "  "
            ]
          },
          "metadata": {},
          "execution_count": 3
        }
      ],
      "source": [
        "df_train = pd.read_csv(\"/content/data_train.csv\", index_col=0)\n",
        "df_test = pd.read_csv(\"/content/data_test.csv\", index_col=0)\n",
        "print(len(df_train), len(df_test))\n",
        "df_train.head()"
      ]
    },
    {
      "cell_type": "code",
      "source": [
        "X_train = df_train[['headline', 'article_text']]\n",
        "Y_train = df_train['is_sarcastic']\n",
        "\n",
        "X_test = df_test[['headline', 'article_text']]\n",
        "Y_test = df_test['is_sarcastic']"
      ],
      "metadata": {
        "id": "WwMq6uMgOufX"
      },
      "execution_count": null,
      "outputs": []
    },
    {
      "cell_type": "markdown",
      "source": [
        "# Tokenization\n",
        "\n",
        "\n",
        "Getting GloVe embeddings from [huggingface](https://huggingface.co/stanfordnlp/glove/resolve/main/glove.twitter.27B.zip)"
      ],
      "metadata": {
        "id": "INWxkeFxua5b"
      }
    },
    {
      "cell_type": "code",
      "source": [
        "# Getting GloVe embedddings from https://huggingface.co/stanfordnlp/glove/resolve/main/glove.42B.300d.zip\n",
        "# glove.42B.300d.zip\n",
        "\n",
        "import requests, zipfile, io\n",
        "url = \"https://huggingface.co/stanfordnlp/glove/resolve/main/glove.42B.300d.zip\"\n",
        "req = requests.get(url) \n",
        "z = zipfile.ZipFile(io.BytesIO(req.content))\n",
        "print(z.namelist())\n",
        "\n",
        "# Extracting the file 'glove.42B.300d.txt'\n",
        "z.extract('glove.42B.300d.txt')\n",
        "\n",
        "embeddings_index = {}\n",
        "f = open('glove.42B.300d.txt')\n",
        "for line in f:\n",
        "    values = line.split()\n",
        "    word = values[0]\n",
        "    coefs = np.asarray(values[1:], dtype='float32')\n",
        "    embeddings_index[word] = coefs\n",
        "f.close()\n",
        "\n",
        "print('Found %s word vectors.' % len(embeddings_index))\n",
        "\n",
        "# sample length of embedding for word \"disagree\"\n",
        "print(len(embeddings_index['disagree']))"
      ],
      "metadata": {
        "colab": {
          "base_uri": "https://localhost:8080/"
        },
        "id": "xfoUQXtvPWSJ",
        "outputId": "d97c4a40-8c62-4535-e6e0-e06beaf4683d"
      },
      "execution_count": null,
      "outputs": [
        {
          "output_type": "stream",
          "name": "stdout",
          "text": [
            "['glove.42B.300d.txt']\n",
            "Found 1917495 word vectors.\n",
            "300\n"
          ]
        }
      ]
    },
    {
      "cell_type": "code",
      "source": [
        "vocab_size = 1000\n",
        "oov_token = \"<OOV>\"\n",
        "max_length_headline = 50\n",
        "max_length_article = 150\n",
        "padding_type = \"post\"\n",
        "trunction_type=\"post\"\n",
        "Tokenizer()\n",
        "tokenizer = Tokenizer(num_words = vocab_size, oov_token=oov_token)\n",
        "tokenizer.fit_on_texts(X_train.apply(lambda x: x[0] + \" \" + x[1], axis=1))\n",
        "word_index = tokenizer.word_index\n",
        "print(len(word_index.keys()))"
      ],
      "metadata": {
        "id": "MMhiJGS_hNwy",
        "colab": {
          "base_uri": "https://localhost:8080/"
        },
        "outputId": "78b904fc-db50-4b8f-9628-53ea118d5645"
      },
      "execution_count": null,
      "outputs": [
        {
          "output_type": "stream",
          "name": "stdout",
          "text": [
            "93100\n"
          ]
        }
      ]
    },
    {
      "cell_type": "markdown",
      "source": [
        "# LSTM Classification Model 1\n",
        "\n",
        "Headlines only"
      ],
      "metadata": {
        "id": "-sGIAjM_wWt6"
      }
    },
    {
      "cell_type": "code",
      "source": [
        "def get_tokenized_padded_features(text):\n",
        "    X_headlines = tokenizer.texts_to_sequences(text['headline'])\n",
        "    X_headlines_padded = pad_sequences(X_headlines,maxlen=max_length_headline, padding=padding_type, \n",
        "                        truncating=trunction_type)\n",
        "    \n",
        "    return X_headlines_padded"
      ],
      "metadata": {
        "id": "jfsXuLlQ0SQ0"
      },
      "execution_count": null,
      "outputs": []
    },
    {
      "cell_type": "code",
      "source": [
        "X_train_padded = get_tokenized_padded_features(X_train)\n",
        "X_test_padded = get_tokenized_padded_features(X_test)\n",
        "\n",
        "print(X_train_padded.shape, X_test_padded.shape)"
      ],
      "metadata": {
        "colab": {
          "base_uri": "https://localhost:8080/"
        },
        "id": "e7lXaWnGZAaU",
        "outputId": "01f1f53f-d307-464c-b437-e83f7c615629"
      },
      "execution_count": null,
      "outputs": [
        {
          "output_type": "stream",
          "name": "stdout",
          "text": [
            "(16968, 50) (7272, 50)\n"
          ]
        }
      ]
    },
    {
      "cell_type": "code",
      "source": [
        "# build embedding matrix\n",
        "# Vector length = 300 according to the version of glove embedding used (glove.42B.300d.txt)\n",
        "vec_length = 300\n",
        "embedding_matrix = np.zeros((len(word_index) + 1, vec_length))\n",
        "for word, i in word_index.items():\n",
        "    embedding_vector = embeddings_index.get(word)\n",
        "    if embedding_vector is not None:\n",
        "        # words not found in embedding index will be all-zeros.\n",
        "        embedding_matrix[i] = embedding_vector"
      ],
      "metadata": {
        "id": "t2-87NMbvyth"
      },
      "execution_count": null,
      "outputs": []
    },
    {
      "cell_type": "code",
      "source": [
        "embedding_layer = Embedding(len(word_index) + 1,\n",
        "                            vec_length,\n",
        "                            weights = [embedding_matrix],\n",
        "                            input_length = max_length_headline,\n",
        "                            trainable = False)"
      ],
      "metadata": {
        "id": "-bn_l8X1vEgr"
      },
      "execution_count": null,
      "outputs": []
    },
    {
      "cell_type": "code",
      "source": [
        "embedding_dim = vec_length\n",
        "input_length = max_length_headline\n",
        "model = Sequential([\n",
        "    embedding_layer,\n",
        "    Bidirectional(LSTM(embedding_dim, return_sequences=True, dropout=0.25, recurrent_dropout=0.1, name='Bidirectional1')),\n",
        "    Dropout(0.25,name ='Dropout1'),\n",
        "    Bidirectional(LSTM(embedding_dim, return_sequences=True, dropout=0.25, recurrent_dropout=0.1,name='Bidirectional2')),\n",
        "    GlobalAvgPool1D(name ='GlobalAvgPool'),\n",
        "    Dense(9, activation='relu', name ='Dense'),\n",
        "    Dropout(0.25,name = 'Dropout2'),\n",
        "    Dense(1, activation='sigmoid', name = 'Dense_output')\n",
        "])\n",
        "model.compile(optimizer=keras.optimizers.Adam(learning_rate=5*1e-3),loss='binary_crossentropy',metrics=['binary_accuracy'])"
      ],
      "metadata": {
        "id": "BgZiUQVjclYF",
        "colab": {
          "base_uri": "https://localhost:8080/"
        },
        "outputId": "1397bc78-2e76-47a3-ecaa-af985a12d381"
      },
      "execution_count": null,
      "outputs": [
        {
          "output_type": "stream",
          "name": "stderr",
          "text": [
            "WARNING:tensorflow:Layer Bidirectional1 will not use cuDNN kernels since it doesn't meet the criteria. It will use a generic GPU kernel as fallback when running on GPU.\n",
            "WARNING:tensorflow:Layer Bidirectional1 will not use cuDNN kernels since it doesn't meet the criteria. It will use a generic GPU kernel as fallback when running on GPU.\n",
            "WARNING:tensorflow:Layer Bidirectional1 will not use cuDNN kernels since it doesn't meet the criteria. It will use a generic GPU kernel as fallback when running on GPU.\n",
            "WARNING:tensorflow:Layer Bidirectional2 will not use cuDNN kernels since it doesn't meet the criteria. It will use a generic GPU kernel as fallback when running on GPU.\n",
            "WARNING:tensorflow:Layer Bidirectional2 will not use cuDNN kernels since it doesn't meet the criteria. It will use a generic GPU kernel as fallback when running on GPU.\n",
            "WARNING:tensorflow:Layer Bidirectional2 will not use cuDNN kernels since it doesn't meet the criteria. It will use a generic GPU kernel as fallback when running on GPU.\n"
          ]
        }
      ]
    },
    {
      "cell_type": "code",
      "source": [
        "model.summary()"
      ],
      "metadata": {
        "colab": {
          "base_uri": "https://localhost:8080/"
        },
        "id": "lHiyvZXzC9Fy",
        "outputId": "95c88935-97d0-44f8-c844-49635cd2e0ac"
      },
      "execution_count": null,
      "outputs": [
        {
          "output_type": "stream",
          "name": "stdout",
          "text": [
            "Model: \"sequential_2\"\n",
            "_________________________________________________________________\n",
            " Layer (type)                Output Shape              Param #   \n",
            "=================================================================\n",
            " embedding_2 (Embedding)     (None, 50, 300)           27930300  \n",
            "                                                                 \n",
            " bidirectional_4 (Bidirectio  (None, 50, 600)          1442400   \n",
            " nal)                                                            \n",
            "                                                                 \n",
            " Dropout1 (Dropout)          (None, 50, 600)           0         \n",
            "                                                                 \n",
            " bidirectional_5 (Bidirectio  (None, 50, 600)          2162400   \n",
            " nal)                                                            \n",
            "                                                                 \n",
            " GlobalAvgPool (GlobalAverag  (None, 600)              0         \n",
            " ePooling1D)                                                     \n",
            "                                                                 \n",
            " Dense (Dense)               (None, 9)                 5409      \n",
            "                                                                 \n",
            " Dropout2 (Dropout)          (None, 9)                 0         \n",
            "                                                                 \n",
            " Dense_output (Dense)        (None, 1)                 10        \n",
            "                                                                 \n",
            "=================================================================\n",
            "Total params: 31,540,519\n",
            "Trainable params: 3,610,219\n",
            "Non-trainable params: 27,930,300\n",
            "_________________________________________________________________\n"
          ]
        }
      ]
    },
    {
      "cell_type": "code",
      "source": [
        "# model architecture for LSTM\n",
        "keras.utils.plot_model(model)"
      ],
      "metadata": {
        "colab": {
          "base_uri": "https://localhost:8080/",
          "height": 856
        },
        "id": "QEdsumd6nBvC",
        "outputId": "758cfb21-a147-4408-c616-a14a07bfc7ae"
      },
      "execution_count": null,
      "outputs": [
        {
          "output_type": "execute_result",
          "data": {
            "image/png": "[encoded data removed]",
            "text/plain": [
              "<IPython.core.display.Image object>"
            ]
          },
          "metadata": {},
          "execution_count": 53
        }
      ]
    },
    {
      "cell_type": "code",
      "metadata": {
        "id": "QbV7ftShvYOh",
        "colab": {
          "base_uri": "https://localhost:8080/"
        },
        "outputId": "5f4eb689-ea16-40a5-ebb8-6d44dd3b89a2"
      },
      "source": [
        "model.compile(optimizer=keras.optimizers.Adam(learning_rate=1e-3),loss='binary_crossentropy',metrics=['binary_accuracy'])\n",
        "history_headline = model.fit(X_train_padded, Y_train, epochs=5, validation_data=(X_test_padded, Y_test), batch_size=256)"
      ],
      "execution_count": null,
      "outputs": [
        {
          "output_type": "stream",
          "name": "stdout",
          "text": [
            "Epoch 1/5\n",
            "67/67 [==============================] - 80s 966ms/step - loss: 0.5567 - binary_accuracy: 0.7066 - val_loss: 0.4563 - val_binary_accuracy: 0.7790\n",
            "Epoch 2/5\n",
            "67/67 [==============================] - 59s 882ms/step - loss: 0.4600 - binary_accuracy: 0.7815 - val_loss: 0.4123 - val_binary_accuracy: 0.8035\n",
            "Epoch 3/5\n",
            "67/67 [==============================] - 58s 871ms/step - loss: 0.4320 - binary_accuracy: 0.7945 - val_loss: 0.3988 - val_binary_accuracy: 0.8097\n",
            "Epoch 4/5\n",
            "67/67 [==============================] - 59s 874ms/step - loss: 0.4135 - binary_accuracy: 0.8062 - val_loss: 0.3818 - val_binary_accuracy: 0.8172\n",
            "Epoch 5/5\n",
            "67/67 [==============================] - 59s 876ms/step - loss: 0.3959 - binary_accuracy: 0.8179 - val_loss: 0.3924 - val_binary_accuracy: 0.8079\n"
          ]
        }
      ]
    },
    {
      "cell_type": "code",
      "metadata": {
        "id": "iIamSaws2-Gq",
        "colab": {
          "base_uri": "https://localhost:8080/",
          "height": 573
        },
        "outputId": "cbd75db2-b2a5-4268-8735-134c9a60970f"
      },
      "source": [
        "plt.plot(history_headline.history['binary_accuracy'])\n",
        "plt.plot(history_headline.history['val_binary_accuracy'])\n",
        "plt.title('model accuracy') \n",
        "plt.ylabel('accuracy')\n",
        "plt.xlabel('epoch')\n",
        "plt.legend(['train', 'val'], loc='upper left')\n",
        "plt.show()\n",
        "\n",
        "plt.plot(history_headline.history['loss'])\n",
        "plt.plot(history_headline.history['val_loss'])\n",
        "plt.title('LSTM model loss (without articles)')\n",
        "plt.ylabel('loss')\n",
        "plt.xlabel('epoch')\n",
        "plt.legend(['train', 'val'], loc='upper right')\n",
        "plt.show()"
      ],
      "execution_count": null,
      "outputs": [
        {
          "output_type": "display_data",
          "data": {
            "text/plain": [
              "<Figure size 432x288 with 1 Axes>"
            ],
            "image/png": "[encoded data removed]"
          },
          "metadata": {
            "needs_background": "light"
          }
        },
        {
          "output_type": "display_data",
          "data": {
            "text/plain": [
              "<Figure size 432x288 with 1 Axes>"
            ],
            "image/png": "[encoded data removed]"
          },
          "metadata": {
            "needs_background": "light"
          }
        }
      ]
    },
    {
      "cell_type": "code",
      "source": [
        "def evaluate_results(X, Y_true, model):\n",
        "    Y_pred = model.predict(X)\n",
        "    print(classification_report(Y_true.to_numpy(), (Y_pred>0.5), digits=4))\n"
      ],
      "metadata": {
        "id": "07dGq1E6sa-k"
      },
      "execution_count": null,
      "outputs": []
    },
    {
      "cell_type": "code",
      "source": [
        "evaluate_results(X_test_padded, Y_test, model)"
      ],
      "metadata": {
        "colab": {
          "base_uri": "https://localhost:8080/"
        },
        "id": "LNWXwD_t4pZ0",
        "outputId": "e35527cf-6202-46b8-fd1b-1e6d3ddfcd4e"
      },
      "execution_count": null,
      "outputs": [
        {
          "output_type": "stream",
          "name": "stdout",
          "text": [
            "228/228 [==============================] - 18s 77ms/step\n",
            "              precision    recall  f1-score   support\n",
            "\n",
            "           0     0.8953    0.7444    0.8129      4077\n",
            "           1     0.7316    0.8889    0.8026      3195\n",
            "\n",
            "    accuracy                         0.8079      7272\n",
            "   macro avg     0.8134    0.8167    0.8078      7272\n",
            "weighted avg     0.8234    0.8079    0.8084      7272\n",
            "\n"
          ]
        }
      ]
    },
    {
      "cell_type": "code",
      "source": [
        "model.save('model_LSTM_1.h5')"
      ],
      "metadata": {
        "id": "nEXy2UwJ6ESg"
      },
      "execution_count": null,
      "outputs": []
    },
    {
      "cell_type": "markdown",
      "source": [
        "# LSTM Classification Model 2\n",
        "\n",
        "Headline + article_text"
      ],
      "metadata": {
        "id": "FQzg8f5puALa"
      }
    },
    {
      "cell_type": "code",
      "source": [
        "# To Get tokenized features\n",
        "# headlines are padded to length 50 and article text is limited to length 150\n",
        "# Resulting tokenized features are of length 200\n",
        "def get_tokenized_padded_features_with_context(text):\n",
        "    X_headlines = tokenizer.texts_to_sequences(text['headline'])\n",
        "    X_headlines_padded = pad_sequences(X_headlines,maxlen=max_length_headline, padding=padding_type, \n",
        "                        truncating=trunction_type)\n",
        "\n",
        "    X_articles = tokenizer.texts_to_sequences(text['article_text'])\n",
        "    X_articles_padded = pad_sequences(X_articles,maxlen=max_length_article, padding=padding_type, \n",
        "                        truncating=trunction_type)\n",
        "\n",
        "    X_concat = np.concatenate((X_headlines_padded, X_articles_padded), axis=1)\n",
        "\n",
        "    return X_concat\n"
      ],
      "metadata": {
        "id": "DmtpR3RIt9n0"
      },
      "execution_count": null,
      "outputs": []
    },
    {
      "cell_type": "code",
      "source": [
        "X_train_padded = get_tokenized_padded_features_with_context(X_train)\n",
        "X_test_padded = get_tokenized_padded_features_with_context(X_test)\n",
        "\n",
        "print(X_train_padded.shape, X_test_padded.shape)"
      ],
      "metadata": {
        "colab": {
          "base_uri": "https://localhost:8080/"
        },
        "outputId": "bc99b556-85b1-4188-a972-398484a2b015",
        "id": "dzXX5ICft9n3"
      },
      "execution_count": null,
      "outputs": [
        {
          "output_type": "stream",
          "name": "stdout",
          "text": [
            "(16968, 200) (7272, 200)\n"
          ]
        }
      ]
    },
    {
      "cell_type": "code",
      "source": [
        "# build embedding matrix\n",
        "# Vector length = 300 according to the version of glove embedding used (glove.twitter.27B.100d.txt)\n",
        "vec_length = 300\n",
        "embedding_matrix = np.zeros((len(word_index) + 1, vec_length))\n",
        "for word, i in word_index.items():\n",
        "    embedding_vector = embeddings_index.get(word)\n",
        "    if embedding_vector is not None:\n",
        "        # words not found in embedding index will be all-zeros.\n",
        "        embedding_matrix[i] = embedding_vector"
      ],
      "metadata": {
        "id": "0P1_7z3at9n8"
      },
      "execution_count": null,
      "outputs": []
    },
    {
      "cell_type": "code",
      "source": [
        "embedding_layer = Embedding(len(word_index) + 1,\n",
        "                            vec_length,\n",
        "                            weights = [embedding_matrix],\n",
        "                            input_length = max_length_headline + max_length_article,\n",
        "                            trainable = False)"
      ],
      "metadata": {
        "id": "O30N7XZ6t9n9"
      },
      "execution_count": null,
      "outputs": []
    },
    {
      "cell_type": "code",
      "source": [
        "embedding_dim = vec_length\n",
        "input_length = max_length_headline + max_length_article\n",
        "model = Sequential([\n",
        "    embedding_layer,\n",
        "    Bidirectional(LSTM(embedding_dim, return_sequences=True, dropout=0.25, recurrent_dropout=0.1, name='Bidirectional1')),\n",
        "    Dropout(0.25,name ='Dropout1'),\n",
        "    Bidirectional(LSTM(embedding_dim, return_sequences=True, dropout=0.25, recurrent_dropout=0.1,name='Bidirectional2')),\n",
        "    GlobalAvgPool1D(name ='GlobalAvgPool'),\n",
        "    Dense(9, activation='relu', name ='Dense'),\n",
        "    Dropout(0.25,name = 'Dropout2'),\n",
        "    Dense(1, activation='sigmoid', name = 'Dense_output')\n",
        "])\n",
        "model.compile(optimizer=keras.optimizers.Adam(learning_rate=5*1e-3),loss='binary_crossentropy',metrics=['binary_accuracy'])"
      ],
      "metadata": {
        "colab": {
          "base_uri": "https://localhost:8080/"
        },
        "id": "pJHS_gGgt9oH",
        "outputId": "35aa9d68-5816-4df3-d706-cd04d3f75bed"
      },
      "execution_count": null,
      "outputs": [
        {
          "output_type": "stream",
          "name": "stderr",
          "text": [
            "WARNING:tensorflow:Layer Bidirectional1 will not use cuDNN kernels since it doesn't meet the criteria. It will use a generic GPU kernel as fallback when running on GPU.\n",
            "WARNING:tensorflow:Layer Bidirectional1 will not use cuDNN kernels since it doesn't meet the criteria. It will use a generic GPU kernel as fallback when running on GPU.\n",
            "WARNING:tensorflow:Layer Bidirectional1 will not use cuDNN kernels since it doesn't meet the criteria. It will use a generic GPU kernel as fallback when running on GPU.\n",
            "WARNING:tensorflow:Layer Bidirectional2 will not use cuDNN kernels since it doesn't meet the criteria. It will use a generic GPU kernel as fallback when running on GPU.\n",
            "WARNING:tensorflow:Layer Bidirectional2 will not use cuDNN kernels since it doesn't meet the criteria. It will use a generic GPU kernel as fallback when running on GPU.\n",
            "WARNING:tensorflow:Layer Bidirectional2 will not use cuDNN kernels since it doesn't meet the criteria. It will use a generic GPU kernel as fallback when running on GPU.\n"
          ]
        }
      ]
    },
    {
      "cell_type": "code",
      "source": [
        "model.summary()"
      ],
      "metadata": {
        "colab": {
          "base_uri": "https://localhost:8080/"
        },
        "outputId": "9218ee6e-3ae2-42c3-9164-a5f09db1d66c",
        "id": "NNA8vPPdt9oI"
      },
      "execution_count": null,
      "outputs": [
        {
          "output_type": "stream",
          "name": "stdout",
          "text": [
            "Model: \"sequential_1\"\n",
            "_________________________________________________________________\n",
            " Layer (type)                Output Shape              Param #   \n",
            "=================================================================\n",
            " embedding_1 (Embedding)     (None, 200, 300)          27930300  \n",
            "                                                                 \n",
            " bidirectional_2 (Bidirectio  (None, 200, 600)         1442400   \n",
            " nal)                                                            \n",
            "                                                                 \n",
            " Dropout1 (Dropout)          (None, 200, 600)          0         \n",
            "                                                                 \n",
            " bidirectional_3 (Bidirectio  (None, 200, 600)         2162400   \n",
            " nal)                                                            \n",
            "                                                                 \n",
            " GlobalAvgPool (GlobalAverag  (None, 600)              0         \n",
            " ePooling1D)                                                     \n",
            "                                                                 \n",
            " Dense (Dense)               (None, 9)                 5409      \n",
            "                                                                 \n",
            " Dropout2 (Dropout)          (None, 9)                 0         \n",
            "                                                                 \n",
            " Dense_output (Dense)        (None, 1)                 10        \n",
            "                                                                 \n",
            "=================================================================\n",
            "Total params: 31,540,519\n",
            "Trainable params: 3,610,219\n",
            "Non-trainable params: 27,930,300\n",
            "_________________________________________________________________\n"
          ]
        }
      ]
    },
    {
      "cell_type": "code",
      "source": [
        "# model architecture for LSTM\n",
        "keras.utils.plot_model(model)"
      ],
      "metadata": {
        "colab": {
          "base_uri": "https://localhost:8080/",
          "height": 856
        },
        "outputId": "1e7e92fc-9e04-4b7b-f8af-dae1e141a460",
        "id": "bGBfSC20t9oJ"
      },
      "execution_count": null,
      "outputs": [
        {
          "output_type": "execute_result",
          "data": {
            "image/png": "[encoded data removed]",
            "text/plain": [
              "<IPython.core.display.Image object>"
            ]
          },
          "metadata": {},
          "execution_count": 63
        }
      ]
    },
    {
      "cell_type": "code",
      "metadata": {
        "colab": {
          "base_uri": "https://localhost:8080/"
        },
        "outputId": "8a3070d3-aad9-48be-9702-10dc1748355e",
        "id": "dhKHs8vCt9oO"
      },
      "source": [
        "model.compile(optimizer=keras.optimizers.Adam(learning_rate=1e-3),loss='binary_crossentropy',metrics=['binary_accuracy'])\n",
        "history = model.fit(X_train_padded, Y_train, epochs=5, validation_data=(X_test_padded, Y_test), batch_size=256)"
      ],
      "execution_count": null,
      "outputs": [
        {
          "output_type": "stream",
          "name": "stdout",
          "text": [
            "Epoch 1/5\n",
            "67/67 [==============================] - 252s 4s/step - loss: 0.5746 - binary_accuracy: 0.7130 - val_loss: 0.3683 - val_binary_accuracy: 0.8526\n",
            "Epoch 2/5\n",
            "67/67 [==============================] - 246s 4s/step - loss: 0.3559 - binary_accuracy: 0.8634 - val_loss: 0.2292 - val_binary_accuracy: 0.9098\n",
            "Epoch 3/5\n",
            "67/67 [==============================] - 235s 3s/step - loss: 0.2080 - binary_accuracy: 0.9327 - val_loss: 0.1222 - val_binary_accuracy: 0.9554\n",
            "Epoch 4/5\n",
            "67/67 [==============================] - 232s 3s/step - loss: 0.1570 - binary_accuracy: 0.9523 - val_loss: 0.1130 - val_binary_accuracy: 0.9587\n",
            "Epoch 5/5\n",
            "67/67 [==============================] - 232s 3s/step - loss: 0.1292 - binary_accuracy: 0.9638 - val_loss: 0.1099 - val_binary_accuracy: 0.9611\n"
          ]
        }
      ]
    },
    {
      "cell_type": "code",
      "metadata": {
        "colab": {
          "base_uri": "https://localhost:8080/",
          "height": 573
        },
        "outputId": "f2b622d4-8221-4156-d11d-8d5b6645e401",
        "id": "K7GzoA5Et9oS"
      },
      "source": [
        "plt.plot(history.history['binary_accuracy'])\n",
        "plt.plot(history.history['val_binary_accuracy'])\n",
        "plt.title('model accuracy') \n",
        "plt.ylabel('accuracy')\n",
        "plt.xlabel('epoch')\n",
        "plt.legend(['train', 'val'], loc='upper left')\n",
        "plt.show()\n",
        "\n",
        "plt.plot(history.history['loss'])\n",
        "plt.plot(history.history['val_loss'])\n",
        "plt.title('model LSTM loss (with article text)')\n",
        "plt.ylabel('loss')\n",
        "plt.xlabel('epoch')\n",
        "plt.legend(['train', 'val'], loc='upper right')\n",
        "plt.show()"
      ],
      "execution_count": null,
      "outputs": [
        {
          "output_type": "display_data",
          "data": {
            "text/plain": [
              "<Figure size 432x288 with 1 Axes>"
            ],
            "image/png": "[encoded data removed]"
          },
          "metadata": {
            "needs_background": "light"
          }
        },
        {
          "output_type": "display_data",
          "data": {
            "text/plain": [
              "<Figure size 432x288 with 1 Axes>"
            ],
            "image/png": "[encoded data removed]"
          },
          "metadata": {
            "needs_background": "light"
          }
        }
      ]
    },
    {
      "cell_type": "code",
      "source": [
        "def evaluate_results(X, Y_true, model):\n",
        "    Y_pred = model.predict(X)\n",
        "    print(classification_report(Y_true.to_numpy(), (Y_pred>0.5), digits=4))\n"
      ],
      "metadata": {
        "id": "7jhvpK_wt9oT"
      },
      "execution_count": null,
      "outputs": []
    },
    {
      "cell_type": "code",
      "source": [
        "evaluate_results(X_test_padded, Y_test, model)"
      ],
      "metadata": {
        "colab": {
          "base_uri": "https://localhost:8080/"
        },
        "outputId": "60621b95-6aa0-4be8-dd40-d7691660bb62",
        "id": "trPzAbrqt9oW"
      },
      "execution_count": null,
      "outputs": [
        {
          "output_type": "stream",
          "name": "stdout",
          "text": [
            "228/228 [==============================] - 66s 291ms/step\n",
            "              precision    recall  f1-score   support\n",
            "\n",
            "           0     0.9832    0.9468    0.9646      4077\n",
            "           1     0.9351    0.9793    0.9567      3195\n",
            "\n",
            "    accuracy                         0.9611      7272\n",
            "   macro avg     0.9592    0.9631    0.9607      7272\n",
            "weighted avg     0.9621    0.9611    0.9612      7272\n",
            "\n"
          ]
        }
      ]
    },
    {
      "cell_type": "markdown",
      "source": [
        "## Plot Training Loss"
      ],
      "metadata": {
        "id": "ysWiilGi732X"
      }
    },
    {
      "cell_type": "code",
      "source": [
        "plt.plot(history_headline.history['loss'])\n",
        "plt.plot(history.history['loss'])\n",
        "plt.title('LSTM model loss')\n",
        "plt.ylabel('loss')\n",
        "plt.xlabel('epoch')\n",
        "plt.legend(['headline', 'headline + article'], loc='upper right')\n",
        "plt.show()"
      ],
      "metadata": {
        "colab": {
          "base_uri": "https://localhost:8080/",
          "height": 295
        },
        "id": "MEtyYEnt0zgX",
        "outputId": "828d7e83-6d87-4c22-f743-94c030c1f469"
      },
      "execution_count": null,
      "outputs": [
        {
          "output_type": "display_data",
          "data": {
            "text/plain": [
              "<Figure size 432x288 with 1 Axes>"
            ],
            "image/png": "[encoded data removed]"
          },
          "metadata": {
            "needs_background": "light"
          }
        }
      ]
    }
  ]
}