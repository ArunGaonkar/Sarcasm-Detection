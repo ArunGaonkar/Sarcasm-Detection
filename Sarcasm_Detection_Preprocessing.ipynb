{
  "nbformat": 4,
  "nbformat_minor": 0,
  "metadata": {
    "colab": {
      "provenance": []
    },
    "kernelspec": {
      "name": "python3",
      "display_name": "Python 3"
    },
    "language_info": {
      "name": "python"
    }
  },
  "cells": [
    {
      "cell_type": "markdown",
      "source": [
        "# Importing libraries"
      ],
      "metadata": {
        "id": "VxEs6-CTkXkX"
      }
    },
    {
      "cell_type": "code",
      "execution_count": null,
      "metadata": {
        "id": "byUuwnBTkP2C"
      },
      "outputs": [],
      "source": [
        "import pandas as pd\n",
        "\n",
        "import json\n",
        "\n",
        "import requests\n",
        "from bs4 import BeautifulSoup"
      ]
    },
    {
      "cell_type": "code",
      "source": [
        "from google.colab import drive\n",
        "drive.mount('/content/drive')"
      ],
      "metadata": {
        "colab": {
          "base_uri": "https://localhost:8080/"
        },
        "id": "8s6XkGNtkcpo",
        "outputId": "bda0c62f-e1a9-4146-ff99-9e6fb7ee6f35"
      },
      "execution_count": null,
      "outputs": [
        {
          "output_type": "stream",
          "name": "stdout",
          "text": [
            "Mounted at /content/drive\n"
          ]
        }
      ]
    },
    {
      "cell_type": "code",
      "source": [
        "cd '/content/drive/MyDrive/SEM3/'"
      ],
      "metadata": {
        "colab": {
          "base_uri": "https://localhost:8080/"
        },
        "id": "JAPTGmFNkgl2",
        "outputId": "2aff3264-cf70-4c30-8cf8-e9a5687eeb44"
      },
      "execution_count": null,
      "outputs": [
        {
          "output_type": "stream",
          "name": "stdout",
          "text": [
            "/content/drive/MyDrive/SEM3\n"
          ]
        }
      ]
    },
    {
      "cell_type": "markdown",
      "source": [
        "# Reading data"
      ],
      "metadata": {
        "id": "O6qtHwatkiYV"
      }
    },
    {
      "cell_type": "code",
      "source": [
        "# create an empty dataframe with is_sarcastic, headline, article_link columns\n",
        "df = pd.DataFrame(columns=['is_sarcastic', 'headline', 'article_link'])\n",
        "\n",
        "with open('Sarcasm_Headlines_Dataset_v2.json') as file:\n",
        "    for line in file:\n",
        "        data = json.loads(line)\n",
        "        \n",
        "        # concat the data with the dataframe\n",
        "        df = pd.concat([df, pd.DataFrame([data])], ignore_index=True)\n",
        "        # df = df.append({'is_sarcastic': data['is_sarcastic'], 'headline': data['headline'], 'article_link': data['article_link']}, ignore_index=True)"
      ],
      "metadata": {
        "id": "-ec0Fhvckj5n"
      },
      "execution_count": null,
      "outputs": []
    },
    {
      "cell_type": "markdown",
      "source": [
        "## Extracting article_text from article_link"
      ],
      "metadata": {
        "id": "EISxTT1VmaMj"
      }
    },
    {
      "cell_type": "code",
      "source": [
        "# link for extract html data\n",
        "def getdata(url):\n",
        "    try:\n",
        "        r = requests.get(url)\n",
        "        return r.text\n",
        "\n",
        "    except:\n",
        "        return -1\n",
        "\n",
        "# function to get the article text from the link\n",
        "def get_article_text(link):\n",
        "    htmldata = getdata(link)\n",
        "    if htmldata == -1:\n",
        "        return ''\n",
        "\n",
        "    soup = BeautifulSoup(htmldata, 'html.parser')\n",
        "\n",
        "    article_text = ''\n",
        "    cnt = 0\n",
        "    for paragraph in soup.find_all('p'):\n",
        "        if len(paragraph.text.split('.')) > 2 and cnt < 3:\n",
        "            article_text += ' ' + paragraph.get_text()\n",
        "            cnt += 1\n",
        "        \n",
        "        if cnt == 3:\n",
        "            break\n",
        "\n",
        "    return article_text\n"
      ],
      "metadata": {
        "id": "8f6MlXRUkuDf"
      },
      "execution_count": null,
      "outputs": []
    },
    {
      "cell_type": "code",
      "source": [
        "# This cell takes 4 hours to run. \n",
        "# Data processing after this step has been saved as 'combined.csv' file \n",
        "# and will be read in the future, instead of running this part of the code again.\n",
        "\n",
        "df1 = df\n",
        "df1['article_text'] = df1['article_link'].apply(get_article_text)\n",
        "df1.to_csv('combined.csv', index=False)"
      ],
      "metadata": {
        "id": "X96F6N4akuoO"
      },
      "execution_count": null,
      "outputs": []
    },
    {
      "cell_type": "code",
      "source": [
        "# Reading the dataset.\n",
        "df = pd.read_csv('combined.csv')\n",
        "df.shape"
      ],
      "metadata": {
        "colab": {
          "base_uri": "https://localhost:8080/"
        },
        "id": "kS9tfO7SkyFe",
        "outputId": "a126c2ec-798b-40ca-e789-d53fbf50967c"
      },
      "execution_count": null,
      "outputs": [
        {
          "output_type": "execute_result",
          "data": {
            "text/plain": [
              "(28619, 4)"
            ]
          },
          "metadata": {},
          "execution_count": 4
        }
      ]
    },
    {
      "cell_type": "code",
      "source": [
        "print(df.isna().sum())\n",
        "df.dropna(inplace=True)\n",
        "print(\"\\nShape after removing null-values\", df.shape)"
      ],
      "metadata": {
        "colab": {
          "base_uri": "https://localhost:8080/"
        },
        "id": "pMY4gromk9cm",
        "outputId": "2e46556e-42ec-4b87-aeda-4c4f5172f38f"
      },
      "execution_count": null,
      "outputs": [
        {
          "output_type": "stream",
          "name": "stdout",
          "text": [
            "is_sarcastic       0\n",
            "headline           0\n",
            "article_link       0\n",
            "article_text    4379\n",
            "dtype: int64\n",
            "\n",
            "Shape after removing null-values (24240, 4)\n"
          ]
        }
      ]
    },
    {
      "cell_type": "code",
      "source": [
        "df.head(10)"
      ],
      "metadata": {
        "colab": {
          "base_uri": "https://localhost:8080/",
          "height": 563
        },
        "id": "iMIL2jYtlmd4",
        "outputId": "ab28ca9f-6e04-49f5-ceda-9028b0b4b38b"
      },
      "execution_count": null,
      "outputs": [
        {
          "output_type": "execute_result",
          "data": {
            "text/plain": [
              "    is_sarcastic                                           headline  \\\n",
              "1              0  dem rep. totally nails why congress is falling...   \n",
              "2              0  eat your veggies: 9 deliciously different recipes   \n",
              "3              1  inclement weather prevents liar from getting t...   \n",
              "4              1  mother comes pretty close to using word 'strea...   \n",
              "5              0                               my white inheritance   \n",
              "6              0         5 ways to file your taxes with less stress   \n",
              "7              1  richard branson's global-warming donation near...   \n",
              "8              1  shadow government getting too large to meet in...   \n",
              "10             0  this lesbian is considered a father in indiana...   \n",
              "11             0  amanda peet told her daughter sex is 'a specia...   \n",
              "\n",
              "                                         article_link  \\\n",
              "1   https://www.huffingtonpost.com/entry/donna-edw...   \n",
              "2   https://www.huffingtonpost.com/entry/eat-your-...   \n",
              "3   https://local.theonion.com/inclement-weather-p...   \n",
              "4   https://www.theonion.com/mother-comes-pretty-c...   \n",
              "5   https://www.huffingtonpost.com/entry/my-white-...   \n",
              "6   https://www.huffingtonpost.com/entry/5-ways-to...   \n",
              "7   https://www.theonion.com/richard-bransons-glob...   \n",
              "8   https://politics.theonion.com/shadow-governmen...   \n",
              "10  https://www.huffingtonpost.com/entry/this-lesb...   \n",
              "11  https://www.huffingtonpost.com/entry/amanda-pe...   \n",
              "\n",
              "                                         article_text  \n",
              "1   \"We are neither post-racial nor post-gender,\" ...  \n",
              "2   Vegetables don't have to be boring or relegate...  \n",
              "3   PROVIDENCE, RI—In spite of his best efforts to...  \n",
              "4   PATERSON, NJ—Family sources told reporters Tue...  \n",
              "5   Life is cumulative. At the end of our lives, w...  \n",
              "6   Even with years of experience, the process of ...  \n",
              "7   \"This unprecedented and extremely generous inv...  \n",
              "8   COLUMBUS, OH—With its membership swelling in r...  \n",
              "10  It is often said that foster children are amaz...  \n",
              "11  “I didn’t know what to do, so I just said, ‘It...  "
            ],
            "text/html": [
              "\n",
              "  <div id=\"df-59cbe8a9-32ad-4250-b317-424d226611f5\">\n",
              "    <div class=\"colab-df-container\">\n",
              "      <div>\n",
              "<style scoped>\n",
              "    .dataframe tbody tr th:only-of-type {\n",
              "        vertical-align: middle;\n",
              "    }\n",
              "\n",
              "    .dataframe tbody tr th {\n",
              "        vertical-align: top;\n",
              "    }\n",
              "\n",
              "    .dataframe thead th {\n",
              "        text-align: right;\n",
              "    }\n",
              "</style>\n",
              "<table border=\"1\" class=\"dataframe\">\n",
              "  <thead>\n",
              "    <tr style=\"text-align: right;\">\n",
              "      <th></th>\n",
              "      <th>is_sarcastic</th>\n",
              "      <th>headline</th>\n",
              "      <th>article_link</th>\n",
              "      <th>article_text</th>\n",
              "    </tr>\n",
              "  </thead>\n",
              "  <tbody>\n",
              "    <tr>\n",
              "      <th>1</th>\n",
              "      <td>0</td>\n",
              "      <td>dem rep. totally nails why congress is falling...</td>\n",
              "      <td>https://www.huffingtonpost.com/entry/donna-edw...</td>\n",
              "      <td>\"We are neither post-racial nor post-gender,\" ...</td>\n",
              "    </tr>\n",
              "    <tr>\n",
              "      <th>2</th>\n",
              "      <td>0</td>\n",
              "      <td>eat your veggies: 9 deliciously different recipes</td>\n",
              "      <td>https://www.huffingtonpost.com/entry/eat-your-...</td>\n",
              "      <td>Vegetables don't have to be boring or relegate...</td>\n",
              "    </tr>\n",
              "    <tr>\n",
              "      <th>3</th>\n",
              "      <td>1</td>\n",
              "      <td>inclement weather prevents liar from getting t...</td>\n",
              "      <td>https://local.theonion.com/inclement-weather-p...</td>\n",
              "      <td>PROVIDENCE, RI—In spite of his best efforts to...</td>\n",
              "    </tr>\n",
              "    <tr>\n",
              "      <th>4</th>\n",
              "      <td>1</td>\n",
              "      <td>mother comes pretty close to using word 'strea...</td>\n",
              "      <td>https://www.theonion.com/mother-comes-pretty-c...</td>\n",
              "      <td>PATERSON, NJ—Family sources told reporters Tue...</td>\n",
              "    </tr>\n",
              "    <tr>\n",
              "      <th>5</th>\n",
              "      <td>0</td>\n",
              "      <td>my white inheritance</td>\n",
              "      <td>https://www.huffingtonpost.com/entry/my-white-...</td>\n",
              "      <td>Life is cumulative. At the end of our lives, w...</td>\n",
              "    </tr>\n",
              "    <tr>\n",
              "      <th>6</th>\n",
              "      <td>0</td>\n",
              "      <td>5 ways to file your taxes with less stress</td>\n",
              "      <td>https://www.huffingtonpost.com/entry/5-ways-to...</td>\n",
              "      <td>Even with years of experience, the process of ...</td>\n",
              "    </tr>\n",
              "    <tr>\n",
              "      <th>7</th>\n",
              "      <td>1</td>\n",
              "      <td>richard branson's global-warming donation near...</td>\n",
              "      <td>https://www.theonion.com/richard-bransons-glob...</td>\n",
              "      <td>\"This unprecedented and extremely generous inv...</td>\n",
              "    </tr>\n",
              "    <tr>\n",
              "      <th>8</th>\n",
              "      <td>1</td>\n",
              "      <td>shadow government getting too large to meet in...</td>\n",
              "      <td>https://politics.theonion.com/shadow-governmen...</td>\n",
              "      <td>COLUMBUS, OH—With its membership swelling in r...</td>\n",
              "    </tr>\n",
              "    <tr>\n",
              "      <th>10</th>\n",
              "      <td>0</td>\n",
              "      <td>this lesbian is considered a father in indiana...</td>\n",
              "      <td>https://www.huffingtonpost.com/entry/this-lesb...</td>\n",
              "      <td>It is often said that foster children are amaz...</td>\n",
              "    </tr>\n",
              "    <tr>\n",
              "      <th>11</th>\n",
              "      <td>0</td>\n",
              "      <td>amanda peet told her daughter sex is 'a specia...</td>\n",
              "      <td>https://www.huffingtonpost.com/entry/amanda-pe...</td>\n",
              "      <td>“I didn’t know what to do, so I just said, ‘It...</td>\n",
              "    </tr>\n",
              "  </tbody>\n",
              "</table>\n",
              "</div>\n",
              "      <button class=\"colab-df-convert\" onclick=\"convertToInteractive('df-59cbe8a9-32ad-4250-b317-424d226611f5')\"\n",
              "              title=\"Convert this dataframe to an interactive table.\"\n",
              "              style=\"display:none;\">\n",
              "        \n",
              "  <svg xmlns=\"http://www.w3.org/2000/svg\" height=\"24px\"viewBox=\"0 0 24 24\"\n",
              "       width=\"24px\">\n",
              "    <path d=\"M0 0h24v24H0V0z\" fill=\"none\"/>\n",
              "    <path d=\"M18.56 5.44l.94 2.06.94-2.06 2.06-.94-2.06-.94-.94-2.06-.94 2.06-2.06.94zm-11 1L8.5 8.5l.94-2.06 2.06-.94-2.06-.94L8.5 2.5l-.94 2.06-2.06.94zm10 10l.94 2.06.94-2.06 2.06-.94-2.06-.94-.94-2.06-.94 2.06-2.06.94z\"/><path d=\"M17.41 7.96l-1.37-1.37c-.4-.4-.92-.59-1.43-.59-.52 0-1.04.2-1.43.59L10.3 9.45l-7.72 7.72c-.78.78-.78 2.05 0 2.83L4 21.41c.39.39.9.59 1.41.59.51 0 1.02-.2 1.41-.59l7.78-7.78 2.81-2.81c.8-.78.8-2.07 0-2.86zM5.41 20L4 18.59l7.72-7.72 1.47 1.35L5.41 20z\"/>\n",
              "  </svg>\n",
              "      </button>\n",
              "      \n",
              "  <style>\n",
              "    .colab-df-container {\n",
              "      display:flex;\n",
              "      flex-wrap:wrap;\n",
              "      gap: 12px;\n",
              "    }\n",
              "\n",
              "    .colab-df-convert {\n",
              "      background-color: #E8F0FE;\n",
              "      border: none;\n",
              "      border-radius: 50%;\n",
              "      cursor: pointer;\n",
              "      display: none;\n",
              "      fill: #1967D2;\n",
              "      height: 32px;\n",
              "      padding: 0 0 0 0;\n",
              "      width: 32px;\n",
              "    }\n",
              "\n",
              "    .colab-df-convert:hover {\n",
              "      background-color: #E2EBFA;\n",
              "      box-shadow: 0px 1px 2px rgba(60, 64, 67, 0.3), 0px 1px 3px 1px rgba(60, 64, 67, 0.15);\n",
              "      fill: #174EA6;\n",
              "    }\n",
              "\n",
              "    [theme=dark] .colab-df-convert {\n",
              "      background-color: #3B4455;\n",
              "      fill: #D2E3FC;\n",
              "    }\n",
              "\n",
              "    [theme=dark] .colab-df-convert:hover {\n",
              "      background-color: #434B5C;\n",
              "      box-shadow: 0px 1px 3px 1px rgba(0, 0, 0, 0.15);\n",
              "      filter: drop-shadow(0px 1px 2px rgba(0, 0, 0, 0.3));\n",
              "      fill: #FFFFFF;\n",
              "    }\n",
              "  </style>\n",
              "\n",
              "      <script>\n",
              "        const buttonEl =\n",
              "          document.querySelector('#df-59cbe8a9-32ad-4250-b317-424d226611f5 button.colab-df-convert');\n",
              "        buttonEl.style.display =\n",
              "          google.colab.kernel.accessAllowed ? 'block' : 'none';\n",
              "\n",
              "        async function convertToInteractive(key) {\n",
              "          const element = document.querySelector('#df-59cbe8a9-32ad-4250-b317-424d226611f5');\n",
              "          const dataTable =\n",
              "            await google.colab.kernel.invokeFunction('convertToInteractive',\n",
              "                                                     [key], {});\n",
              "          if (!dataTable) return;\n",
              "\n",
              "          const docLinkHtml = 'Like what you see? Visit the ' +\n",
              "            '<a target=\"_blank\" href=https://colab.research.google.com/notebooks/data_table.ipynb>data table notebook</a>'\n",
              "            + ' to learn more about interactive tables.';\n",
              "          element.innerHTML = '';\n",
              "          dataTable['output_type'] = 'display_data';\n",
              "          await google.colab.output.renderOutput(dataTable, element);\n",
              "          const docLink = document.createElement('div');\n",
              "          docLink.innerHTML = docLinkHtml;\n",
              "          element.appendChild(docLink);\n",
              "        }\n",
              "      </script>\n",
              "    </div>\n",
              "  </div>\n",
              "  "
            ]
          },
          "metadata": {},
          "execution_count": 6
        }
      ]
    }
  ]
}